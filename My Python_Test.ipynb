{
 "cells": [
  {
   "cell_type": "code",
   "execution_count": 5,
   "id": "0a7b0203-921a-4417-9855-66d498cba19c",
   "metadata": {},
   "outputs": [
    {
     "name": "stdout",
     "output_type": "stream",
     "text": [
      "Requirement already satisfied: mysql-connector-python in c:\\users\\user\\appdata\\local\\programs\\python\\python311\\lib\\site-packages (8.2.0)\n",
      "Requirement already satisfied: protobuf<=4.21.12,>=4.21.1 in c:\\users\\user\\appdata\\local\\programs\\python\\python311\\lib\\site-packages (from mysql-connector-python) (4.21.12)\n"
     ]
    }
   ],
   "source": [
    "!pip install mysql-connector-python"
   ]
  },
  {
   "cell_type": "code",
   "execution_count": 6,
   "id": "85d4c5a4-2216-46d4-a4a0-1f6a72a1e47e",
   "metadata": {},
   "outputs": [],
   "source": [
    "import mysql.connector as connector"
   ]
  },
  {
   "cell_type": "code",
   "execution_count": 7,
   "id": "b04ae87a-f6ff-4965-b2c1-8e8ed7e53538",
   "metadata": {},
   "outputs": [],
   "source": [
    "connection = connector.connect(user = \"root\", password = \"Colkim234#\", db = \"little_lemon_db\")"
   ]
  },
  {
   "cell_type": "code",
   "execution_count": 8,
   "id": "c82182f3-8942-43f3-aaac-38767745116a",
   "metadata": {},
   "outputs": [],
   "source": [
    "create_employees_table = \"\"\"CREATE TABLE Employees (\n",
    "EmployeeID INT AUTO_INCREMENT PRIMARY KEY,\n",
    "Name VARCHAR (255),\n",
    "Role VARCHAR (100),\n",
    "Address VARCHAR (255),\n",
    "Contact_Number INT,\n",
    "Email VARCHAR (255),\n",
    "Annual_Salary VARCHAR (100)\n",
    ");\"\"\""
   ]
  },
  {
   "cell_type": "code",
   "execution_count": 9,
   "id": "cf0c6f0e-0e14-41f7-ba6f-ea59def53a3d",
   "metadata": {},
   "outputs": [],
   "source": [
    "create_orders_table = \"\"\"CREATE TABLE Orders (\n",
    "OrderID INT,\n",
    "TableNo INT,\n",
    "MenuID INT,\n",
    "BookingID INT,\n",
    "BillAmount INT,\n",
    "Quantity INT,\n",
    "PRIMARY KEY (OrderID,TableNo)\n",
    ");\"\"\"\n"
   ]
  },
  {
   "cell_type": "code",
   "execution_count": 10,
   "id": "14853a7c-2425-4357-a0e4-5dd7185de6e9",
   "metadata": {},
   "outputs": [],
   "source": [
    "create_bookings_tables = \"\"\"CREATE TABLE Bookings (\n",
    "BookingID INT,\n",
    "TableNO INT,\n",
    "GuestFirstName VARCHAR(100) NOT NULL,\n",
    "GuestLastName VARCHAR(100) NOT NULL,\n",
    "BookingSlot TIME NOT NULL,\n",
    "EmployeeID INT,\n",
    "Primary Key (BookingID),\n",
    ");\"\"\""
   ]
  },
  {
   "cell_type": "code",
   "execution_count": 11,
   "id": "3594a88d-8300-474c-af6b-73dc63ed3aa5",
   "metadata": {},
   "outputs": [],
   "source": [
    "create_menu_table = \"\"\"CREATE TABLE Menus (\n",
    "MenuID INT,\n",
    "ItemID INT,\n",
    "Cuisine VARCHAR(100),\n",
    "PRIMARY KEY (MenuID,ItemID)\n",
    ");\"\"\""
   ]
  },
  {
   "cell_type": "code",
   "execution_count": 12,
   "id": "8986265f-7f49-41b0-865e-f7b0969588e0",
   "metadata": {},
   "outputs": [],
   "source": [
    "insert_menuitems=\"\"\"\n",
    "INSERT INTO MenuItems (ItemID, Name, Type, Price)\n",
    "VALUES\n",
    "(1, 'Olives','Starters',5),\n",
    "(2, 'Flatbread','Starters', 5),\n",
    "(3, 'Minestrone', 'Starters', 8),\n",
    "(4, 'Tomato bread','Starters', 8),\n",
    "cursor.execute(insert_menuitems)\n",
    "connection.commit()\"\"\""
   ]
  },
  {
   "cell_type": "code",
   "execution_count": 13,
   "id": "180f4c4c-e4ef-4016-94af-46610b9afc9b",
   "metadata": {},
   "outputs": [],
   "source": [
    "select_query =\"\"\"SELECT * FROM MenuItems\n",
    "where ItemID = 1;\"\"\""
   ]
  },
  {
   "cell_type": "code",
   "execution_count": 17,
   "id": "80ac4ad2-25d0-4688-944a-86091ead4e1b",
   "metadata": {},
   "outputs": [],
   "source": [
    "show_tables_query =\"\"\"(\"SHOW tables\" \n",
    "cursor.execute(show_tables_query)\n",
    "print(results);\"\"\""
   ]
  },
  {
   "cell_type": "code",
   "execution_count": 19,
   "id": "84f704ed-2445-41be-8cfe-ddf01126a9ce",
   "metadata": {},
   "outputs": [],
   "source": [
    "show_tables_query = (\"SHOW tables\")"
   ]
  },
  {
   "cell_type": "code",
   "execution_count": 36,
   "id": "f93e9f61-7311-44e6-a521-4b709900578a",
   "metadata": {},
   "outputs": [],
   "source": [
    "read_data_query = \"\"\"Select * FROM MenuItems\"\"\""
   ]
  },
  {
   "cell_type": "code",
   "execution_count": 38,
   "id": "c512b155-3bb9-4a34-a060-3cc8f934455a",
   "metadata": {},
   "outputs": [],
   "source": [
    "cursor  = connection.cursor()"
   ]
  },
  {
   "cell_type": "code",
   "execution_count": 39,
   "id": "481946dc-164d-4dbf-973a-e1b1e4cf0653",
   "metadata": {},
   "outputs": [],
   "source": [
    "cursor.execute(show_tables_query)"
   ]
  },
  {
   "cell_type": "raw",
   "id": "7c0ec0b1-8767-4eac-b415-f406ea62e61d",
   "metadata": {},
   "source": [
    "cursor.execute(\"USE little_lemon_db\")"
   ]
  },
  {
   "cell_type": "code",
   "execution_count": 47,
   "id": "73540ac4-a49e-4d4e-ad8b-431aa430f7b5",
   "metadata": {},
   "outputs": [],
   "source": [
    "insert_bookings=\"\"\"\n",
    "INSERT INTO Bookings (BookingID, TableNo, GuestFirstName, \n",
    "GuestLastName, BookingSlot, EmployeeID)\n",
    "VALUES\n",
    "(1,12,'Anna','Iversen','19:00:00',1),\n",
    "(2, 12, 'Joakim', 'Iversen', '19:00:00', 1),\n",
    "(3, 19, 'Vanessa', 'McCarthy', '15:00:00', 3),\n",
    "(4, 15, 'Marcos', 'Romero', '17:30:00', 4),\n",
    "(5, 5, 'Hiroki', 'Yamane', '18:30:00', 2),\n",
    "(6, 8, 'Diana', 'Pinto', '20:00:00', 5);\"\"\""
   ]
  },
  {
   "cell_type": "code",
   "execution_count": 48,
   "id": "ec3de2f2-823b-4067-8ab6-01ce1affcac9",
   "metadata": {},
   "outputs": [],
   "source": [
    "insert_menuitmes=\"\"\"\n",
    "INSERT INTO MenuItems (ItemID, Name, Type, Price)\n",
    "VALUES\n",
    "(1,'Olives','Starters',5),\n",
    "(2,'Flatbread','Starters', 5),\n",
    "(3, 'Minestrone', 'Starters', 8),\n",
    "(4, 'Tomato bread','Starters', 8),\n",
    "(5, 'Falafel', 'Starters', 7),\n",
    "(6, 'Hummus', 'Starters', 5),\n",
    "(7, 'Greek salad', 'Main Courses', 15),\n",
    "(8, 'Bean soup', 'Main Courses', 12),\n",
    "(9, 'Pizza', 'Main Courses', 15),\n",
    "(10,'Greek yoghurt','Desserts', 7),\n",
    "(11, 'Ice cream', 'Desserts', 6),\n",
    "(12, 'Cheesecake', 'Desserts', 4),\n",
    "(13, 'Athens White wine', 'Drinks', 25),\n",
    "(14, 'Corfu Red Wine', 'Drinks', 30),\n",
    "(15, 'Turkish Coffee', 'Drinks', 10),\n",
    "(16, 'Turkish Coffee', 'Drinks', 10),\n",
    "(17, 'Kabasa', 'Main Courses', 17);\"\"\""
   ]
  },
  {
   "cell_type": "code",
   "execution_count": 49,
   "id": "883129b6-896d-4b33-b53e-e8d8c35f5f91",
   "metadata": {},
   "outputs": [],
   "source": [
    "insert_orders=\"\"\"\n",
    "INSERT INTO Orders (OrderID, TableNo, MenuID, BookingID, Quantity, BillAmount)\n",
    "VALUES\n",
    "(1, 12, 1, 1, 2, 86),\n",
    "(2, 19, 2, 2, 1, 37),\n",
    "(3, 15, 2, 3, 1, 37),\n",
    "(4, 5, 3, 4, 1, 40),\n",
    "(5, 8, 1, 5, 1, 43);\"\"\"\n"
   ]
  },
  {
   "cell_type": "code",
   "execution_count": 50,
   "id": "f2d0c98f-16ca-4158-b218-702a4c7cf461",
   "metadata": {},
   "outputs": [],
   "source": [
    "all_bookings = \"\"\"SELECT GuestFirstName, GuestLastName, TableNo FROM Bookings\"\"\""
   ]
  },
  {
   "cell_type": "code",
   "execution_count": 59,
   "id": "861ce495-697c-4675-a97d-ffe42b2d77f7",
   "metadata": {},
   "outputs": [],
   "source": [
    "sql_query = \"\"\"SELECT SUM(BillAmount) AS Total_Sale FROM Orders;\"\"\""
   ]
  },
  {
   "cell_type": "code",
   "execution_count": 61,
   "id": "a7d6639f-8b43-4861-bfcf-4f581e2ec730",
   "metadata": {},
   "outputs": [],
   "source": [
    "results = cursor.fetchall()"
   ]
  },
  {
   "cell_type": "code",
   "execution_count": 62,
   "id": "ed42083f-cd31-4714-a615-abb8d74468cb",
   "metadata": {},
   "outputs": [],
   "source": [
    "cursor.execute(sql_query) "
   ]
  },
  {
   "cell_type": "code",
   "execution_count": 63,
   "id": "100e37a2-d6be-45b2-a8fb-075376e436a7",
   "metadata": {},
   "outputs": [],
   "source": [
    "results = cursor.fetchall()"
   ]
  },
  {
   "cell_type": "raw",
   "id": "01a991cf-47cd-4844-9074-d5369d6eb00a",
   "metadata": {},
   "source": [
    "cursor.commit"
   ]
  },
  {
   "cell_type": "code",
   "execution_count": 68,
   "id": "6c7a37f4-d53d-420e-aa06-32f297f4fc8b",
   "metadata": {},
   "outputs": [],
   "source": [
    "connection.commit()"
   ]
  },
  {
   "cell_type": "code",
   "execution_count": null,
   "id": "a75ccdc0-ee03-48ae-b883-d299f12b6e32",
   "metadata": {},
   "outputs": [],
   "source": []
  }
 ],
 "metadata": {
  "kernelspec": {
   "display_name": "Python 3 (ipykernel)",
   "language": "python",
   "name": "python3"
  },
  "language_info": {
   "codemirror_mode": {
    "name": "ipython",
    "version": 3
   },
   "file_extension": ".py",
   "mimetype": "text/x-python",
   "name": "python",
   "nbconvert_exporter": "python",
   "pygments_lexer": "ipython3",
   "version": "3.11.5"
  }
 },
 "nbformat": 4,
 "nbformat_minor": 5
}
